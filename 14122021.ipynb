{
  "nbformat": 4,
  "nbformat_minor": 0,
  "metadata": {
    "colab": {
      "name": "14122021.ipynb",
      "provenance": [],
      "authorship_tag": "ABX9TyOZhUzBy9TILDFjoAcNJ5Is",
      "include_colab_link": true
    },
    "kernelspec": {
      "name": "python3",
      "display_name": "Python 3"
    },
    "language_info": {
      "name": "python"
    }
  },
  "cells": [
    {
      "cell_type": "markdown",
      "metadata": {
        "id": "view-in-github",
        "colab_type": "text"
      },
      "source": [
        "<a href=\"https://colab.research.google.com/github/prudvivadhi/pythonlab1/blob/main/14122021.ipynb\" target=\"_parent\"><img src=\"https://colab.research.google.com/assets/colab-badge.svg\" alt=\"Open In Colab\"/></a>"
      ]
    },
    {
      "cell_type": "code",
      "execution_count": 1,
      "metadata": {
        "colab": {
          "base_uri": "https://localhost:8080/"
        },
        "id": "1M3TK9d-yrEu",
        "outputId": "5f5e231e-715f-4af6-f50b-0c67075efbb1"
      },
      "outputs": [
        {
          "output_type": "stream",
          "name": "stdout",
          "text": [
            "the addition is  67\n",
            "the subtraction is  -17\n"
          ]
        }
      ],
      "source": [
        "num1 = 25\n",
        "num2 = 42\n",
        "\n",
        "sum = num1+num2\n",
        "\n",
        "print (\"the addition is \",sum)\n",
        "\n",
        "min = num1-num2 \n",
        "print(\"the subtraction is \",min)\n"
      ]
    },
    {
      "cell_type": "code",
      "source": [
        "number_1 = int(input('Enter your first number: '))\n",
        "number_2 = int(input('Enter your second number: '))\n",
        "\n",
        "# Addition\n",
        "print('{} + {} = '.format(number_1, number_2))\n",
        "print(number_1 + number_2)\n",
        "\n",
        "# Subtraction\n",
        "print('{} - {} = '.format(number_1, number_2))\n",
        "print(number_1 - number_2)\n",
        "\n",
        "# Multiplication\n",
        "print('{} * {} = '.format(number_1, number_2))\n",
        "print(number_1 * number_2)\n",
        "\n",
        "# Division\n",
        "print('{} / {} = '.format(number_1, number_2))\n",
        "print(number_1 / number_2)"
      ],
      "metadata": {
        "colab": {
          "base_uri": "https://localhost:8080/"
        },
        "id": "H-ofzc0D1mnQ",
        "outputId": "c986ec45-da7d-47fb-fa5d-ac8e20ca5866"
      },
      "execution_count": 4,
      "outputs": [
        {
          "output_type": "stream",
          "name": "stdout",
          "text": [
            "Enter your first number: 420\n",
            "Enter your second number: 840\n",
            "420 + 840 = \n",
            "1260\n",
            "420 - 840 = \n",
            "-420\n",
            "420 * 840 = \n",
            "352800\n",
            "420 / 840 = \n",
            "0.5\n"
          ]
        }
      ]
    },
    {
      "cell_type": "code",
      "source": [
        "num1 = 24\n",
        "num2 = 56\n",
        "\n",
        "mul = num1*num2\n",
        "\n",
        "print(\"multiplication is \",mul)\n",
        "\n",
        "div = num1/num2 \n",
        "\n",
        "print(\"quotient is \",div)\n",
        "\n",
        "rem = num1%num2\n",
        "\n",
        "print(\"remainder is\",rem)\n",
        "\n"
      ],
      "metadata": {
        "colab": {
          "base_uri": "https://localhost:8080/"
        },
        "id": "7whWUWbozjbk",
        "outputId": "8dc8ef02-6347-450f-fab3-192ea4398eb0"
      },
      "execution_count": 2,
      "outputs": [
        {
          "output_type": "stream",
          "name": "stdout",
          "text": [
            "multiplication is  1344\n",
            "quotient is  0.42857142857142855\n",
            "remainder is 24\n"
          ]
        }
      ]
    }
  ]
}